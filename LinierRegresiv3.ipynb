{
 "cells": [
  {
   "cell_type": "code",
   "execution_count": 3,
   "id": "6df08c41",
   "metadata": {},
   "outputs": [
    {
     "data": {
      "text/html": [
       "<div>\n",
       "<style scoped>\n",
       "    .dataframe tbody tr th:only-of-type {\n",
       "        vertical-align: middle;\n",
       "    }\n",
       "\n",
       "    .dataframe tbody tr th {\n",
       "        vertical-align: top;\n",
       "    }\n",
       "\n",
       "    .dataframe thead th {\n",
       "        text-align: right;\n",
       "    }\n",
       "</style>\n",
       "<table border=\"1\" class=\"dataframe\">\n",
       "  <thead>\n",
       "    <tr style=\"text-align: right;\">\n",
       "      <th></th>\n",
       "      <th>mm3</th>\n",
       "      <th>hr</th>\n",
       "    </tr>\n",
       "  </thead>\n",
       "  <tbody>\n",
       "    <tr>\n",
       "      <th>0</th>\n",
       "      <td>783.1</td>\n",
       "      <td>25</td>\n",
       "    </tr>\n",
       "    <tr>\n",
       "      <th>1</th>\n",
       "      <td>688.9</td>\n",
       "      <td>18</td>\n",
       "    </tr>\n",
       "    <tr>\n",
       "      <th>2</th>\n",
       "      <td>289.9</td>\n",
       "      <td>13</td>\n",
       "    </tr>\n",
       "    <tr>\n",
       "      <th>3</th>\n",
       "      <td>533.6</td>\n",
       "      <td>15</td>\n",
       "    </tr>\n",
       "    <tr>\n",
       "      <th>4</th>\n",
       "      <td>579.0</td>\n",
       "      <td>6</td>\n",
       "    </tr>\n",
       "    <tr>\n",
       "      <th>...</th>\n",
       "      <td>...</td>\n",
       "      <td>...</td>\n",
       "    </tr>\n",
       "    <tr>\n",
       "      <th>115</th>\n",
       "      <td>54.0</td>\n",
       "      <td>7</td>\n",
       "    </tr>\n",
       "    <tr>\n",
       "      <th>116</th>\n",
       "      <td>61.1</td>\n",
       "      <td>9</td>\n",
       "    </tr>\n",
       "    <tr>\n",
       "      <th>117</th>\n",
       "      <td>74.0</td>\n",
       "      <td>12</td>\n",
       "    </tr>\n",
       "    <tr>\n",
       "      <th>118</th>\n",
       "      <td>303.4</td>\n",
       "      <td>24</td>\n",
       "    </tr>\n",
       "    <tr>\n",
       "      <th>119</th>\n",
       "      <td>232.0</td>\n",
       "      <td>22</td>\n",
       "    </tr>\n",
       "  </tbody>\n",
       "</table>\n",
       "<p>120 rows × 2 columns</p>\n",
       "</div>"
      ],
      "text/plain": [
       "       mm3  hr\n",
       "0    783.1  25\n",
       "1    688.9  18\n",
       "2    289.9  13\n",
       "3    533.6  15\n",
       "4    579.0   6\n",
       "..     ...  ..\n",
       "115   54.0   7\n",
       "116   61.1   9\n",
       "117   74.0  12\n",
       "118  303.4  24\n",
       "119  232.0  22\n",
       "\n",
       "[120 rows x 2 columns]"
      ]
     },
     "execution_count": 3,
     "metadata": {},
     "output_type": "execute_result"
    }
   ],
   "source": [
    "import numpy as np\n",
    "import matplotlib.pyplot as plt\n",
    "import pandas as pd\n",
    "\n",
    "dataset = pd.read_csv('dt_curah.csv')\n",
    "x = dataset.iloc[:, :-1].values\n",
    "y = dataset.iloc[:, 1].values\n",
    "\n",
    "dtset = pd.DataFrame(dataset)\n",
    "dtset"
   ]
  },
  {
   "cell_type": "code",
   "execution_count": 8,
   "id": "2e7e104b",
   "metadata": {},
   "outputs": [
    {
     "data": {
      "image/png": "[encoded data removed]",
      "text/plain": [
       "<Figure size 432x288 with 1 Axes>"
      ]
     },
     "metadata": {
      "needs_background": "light"
     },
     "output_type": "display_data"
    }
   ],
   "source": [
    "plt.scatter(x, y, color='blue')\n",
    "plt.title('Curah Hujan vs Banyaknya Hujan Harian')\n",
    "plt.xlabel('Curah Hujan')\n",
    "plt.ylabel('Banyaknya Hujan Harian')\n",
    "plt.show()"
   ]
  },
  {
   "cell_type": "code",
   "execution_count": 9,
   "id": "41ce6db9",
   "metadata": {},
   "outputs": [],
   "source": [
    "from sklearn.model_selection import train_test_split\n",
    "X_train, X_test, y_train, y_test = train_test_split(x, y, test_size=0.2, random_state=0)"
   ]
  },
  {
   "cell_type": "code",
   "execution_count": 10,
   "id": "7a20a92e",
   "metadata": {},
   "outputs": [
    {
     "data": {
      "text/plain": [
       "LinearRegression()"
      ]
     },
     "execution_count": 10,
     "metadata": {},
     "output_type": "execute_result"
    }
   ],
   "source": [
    "from sklearn.linear_model import LinearRegression\n",
    "regressor = LinearRegression()\n",
    "regressor.fit(X_train, y_train)"
   ]
  },
  {
   "cell_type": "code",
   "execution_count": 11,
   "id": "6336ea09",
   "metadata": {},
   "outputs": [],
   "source": [
    "y_pred = regressor.predict(X_test)"
   ]
  },
  {
   "cell_type": "code",
   "execution_count": 13,
   "id": "4c8eb97d",
   "metadata": {},
   "outputs": [
    {
     "data": {
      "image/png": "[encoded data removed]",
      "text/plain": [
       "<Figure size 432x288 with 1 Axes>"
      ]
     },
     "metadata": {
      "needs_background": "light"
     },
     "output_type": "display_data"
    }
   ],
   "source": [
    "plt.scatter(X_train, y_train, color='red')\n",
    "plt.plot(X_train, regressor.predict(X_train), color='blue')\n",
    "plt.title('Curah Hujan vs Banyaknya Hujan Harian')\n",
    "plt.xlabel('Curah Hujan')\n",
    "plt.ylabel('Banyaknya Hujan Harian')\n",
    "plt.show()\n"
   ]
  },
  {
   "cell_type": "code",
   "execution_count": 14,
   "id": "3629ed1a",
   "metadata": {},
   "outputs": [
    {
     "data": {
      "image/png": "[encoded data removed]",
      "text/plain": [
       "<Figure size 432x288 with 1 Axes>"
      ]
     },
     "metadata": {
      "needs_background": "light"
     },
     "output_type": "display_data"
    }
   ],
   "source": [
    "plt.scatter(X_test, y_test, color='red')\n",
    "plt.plot(X_train, regressor.predict(X_train), color='blue')\n",
    "plt.title('Curah Hujan vs Banyaknya Hujan Harian')\n",
    "plt.xlabel('Curah Hujan')\n",
    "plt.ylabel('Banyaknya Hujan Harian')\n",
    "plt.show()\n"
   ]
  },
  {
   "cell_type": "code",
   "execution_count": 20,
   "id": "2701a783",
   "metadata": {},
   "outputs": [
    {
     "data": {
      "text/plain": [
       "(120, 1)"
      ]
     },
     "execution_count": 20,
     "metadata": {},
     "output_type": "execute_result"
    }
   ],
   "source": [
    "X = x.reshape(-1,1)\n",
    "X.shape"
   ]
  },
  {
   "cell_type": "code",
   "execution_count": 25,
   "id": "d0a116d3",
   "metadata": {},
   "outputs": [],
   "source": [
    "X_vis = np.array([0,1000]).reshape(-1,1)\n",
    "y_vis = regressor.predict(X_vis)"
   ]
  },
  {
   "cell_type": "code",
   "execution_count": 26,
   "id": "89697b98",
   "metadata": {},
   "outputs": [
    {
     "name": "stdout",
     "output_type": "stream",
     "text": [
      "intercept: 8.99566738307879\n",
      "slope: [0.02683787])\n"
     ]
    }
   ],
   "source": [
    "print(f'intercept: {regressor.intercept_}')\n",
    "print(f'slope: {regressor.coef_})')"
   ]
  },
  {
   "cell_type": "code",
   "execution_count": 27,
   "id": "829776a3",
   "metadata": {},
   "outputs": [
    {
     "name": "stdout",
     "output_type": "stream",
     "text": [
      "X:\n",
      "[[7.831e+02]\n",
      " [6.889e+02]\n",
      " [2.899e+02]\n",
      " [5.336e+02]\n",
      " [5.790e+02]\n",
      " [7.080e+01]\n",
      " [2.000e-01]\n",
      " [0.000e+00]\n",
      " [0.000e+00]\n",
      " [9.220e+01]\n",
      " [3.160e+02]\n",
      " [4.209e+02]\n",
      " [4.371e+02]\n",
      " [3.690e+02]\n",
      " [1.796e+02]\n",
      " [3.420e+02]\n",
      " [2.325e+02]\n",
      " [1.840e+02]\n",
      " [9.900e+01]\n",
      " [4.300e+00]\n",
      " [0.000e+00]\n",
      " [2.052e+02]\n",
      " [2.220e+02]\n",
      " [3.411e+02]\n",
      " [2.551e+02]\n",
      " [2.068e+02]\n",
      " [2.126e+02]\n",
      " [2.217e+02]\n",
      " [1.525e+02]\n",
      " [1.366e+02]\n",
      " [7.480e+01]\n",
      " [1.500e+00]\n",
      " [0.000e+00]\n",
      " [7.000e+00]\n",
      " [1.285e+02]\n",
      " [3.060e+02]\n",
      " [2.670e+02]\n",
      " [1.909e+02]\n",
      " [1.274e+02]\n",
      " [5.600e+02]\n",
      " [2.800e+01]\n",
      " [3.150e+01]\n",
      " [3.150e+01]\n",
      " [0.000e+00]\n",
      " [0.000e+00]\n",
      " [7.500e+00]\n",
      " [1.572e+02]\n",
      " [3.438e+02]\n",
      " [7.200e+01]\n",
      " [1.640e+02]\n",
      " [1.430e+02]\n",
      " [5.200e+01]\n",
      " [1.040e+02]\n",
      " [1.230e+02]\n",
      " [1.130e+02]\n",
      " [2.100e+01]\n",
      " [7.900e+01]\n",
      " [7.700e+01]\n",
      " [1.480e+02]\n",
      " [9.100e+01]\n",
      " [1.360e+01]\n",
      " [1.990e+01]\n",
      " [7.800e+00]\n",
      " [9.800e+00]\n",
      " [1.000e+00]\n",
      " [4.400e+00]\n",
      " [2.600e+00]\n",
      " [0.000e+00]\n",
      " [4.700e+00]\n",
      " [3.200e+00]\n",
      " [1.280e+01]\n",
      " [5.300e+00]\n",
      " [1.360e+01]\n",
      " [1.990e+01]\n",
      " [7.800e+00]\n",
      " [9.800e+00]\n",
      " [1.000e+00]\n",
      " [4.400e+00]\n",
      " [2.600e+00]\n",
      " [0.000e+00]\n",
      " [4.700e+00]\n",
      " [3.200e+00]\n",
      " [1.280e+01]\n",
      " [5.300e+00]\n",
      " [5.739e+02]\n",
      " [3.348e+02]\n",
      " [3.605e+02]\n",
      " [1.726e+02]\n",
      " [3.600e+01]\n",
      " [0.000e+00]\n",
      " [0.000e+00]\n",
      " [0.000e+00]\n",
      " [0.000e+00]\n",
      " [0.000e+00]\n",
      " [9.020e+01]\n",
      " [2.477e+02]\n",
      " [2.753e+02]\n",
      " [1.994e+02]\n",
      " [1.757e+02]\n",
      " [1.311e+02]\n",
      " [1.825e+02]\n",
      " [2.000e+00]\n",
      " [5.300e+00]\n",
      " [3.430e+01]\n",
      " [5.600e+00]\n",
      " [2.563e+02]\n",
      " [2.492e+02]\n",
      " [1.877e+02]\n",
      " [5.818e+02]\n",
      " [2.760e+02]\n",
      " [2.650e+02]\n",
      " [1.641e+02]\n",
      " [6.510e+01]\n",
      " [2.402e+02]\n",
      " [5.000e+00]\n",
      " [5.400e+01]\n",
      " [6.110e+01]\n",
      " [7.400e+01]\n",
      " [3.034e+02]\n",
      " [2.320e+02]]\n",
      "\n",
      "X flatten: [7.831e+02 6.889e+02 2.899e+02 5.336e+02 5.790e+02 7.080e+01 2.000e-01\n",
      " 0.000e+00 0.000e+00 9.220e+01 3.160e+02 4.209e+02 4.371e+02 3.690e+02\n",
      " 1.796e+02 3.420e+02 2.325e+02 1.840e+02 9.900e+01 4.300e+00 0.000e+00\n",
      " 2.052e+02 2.220e+02 3.411e+02 2.551e+02 2.068e+02 2.126e+02 2.217e+02\n",
      " 1.525e+02 1.366e+02 7.480e+01 1.500e+00 0.000e+00 7.000e+00 1.285e+02\n",
      " 3.060e+02 2.670e+02 1.909e+02 1.274e+02 5.600e+02 2.800e+01 3.150e+01\n",
      " 3.150e+01 0.000e+00 0.000e+00 7.500e+00 1.572e+02 3.438e+02 7.200e+01\n",
      " 1.640e+02 1.430e+02 5.200e+01 1.040e+02 1.230e+02 1.130e+02 2.100e+01\n",
      " 7.900e+01 7.700e+01 1.480e+02 9.100e+01 1.360e+01 1.990e+01 7.800e+00\n",
      " 9.800e+00 1.000e+00 4.400e+00 2.600e+00 0.000e+00 4.700e+00 3.200e+00\n",
      " 1.280e+01 5.300e+00 1.360e+01 1.990e+01 7.800e+00 9.800e+00 1.000e+00\n",
      " 4.400e+00 2.600e+00 0.000e+00 4.700e+00 3.200e+00 1.280e+01 5.300e+00\n",
      " 5.739e+02 3.348e+02 3.605e+02 1.726e+02 3.600e+01 0.000e+00 0.000e+00\n",
      " 0.000e+00 0.000e+00 0.000e+00 9.020e+01 2.477e+02 2.753e+02 1.994e+02\n",
      " 1.757e+02 1.311e+02 1.825e+02 2.000e+00 5.300e+00 3.430e+01 5.600e+00\n",
      " 2.563e+02 2.492e+02 1.877e+02 5.818e+02 2.760e+02 2.650e+02 1.641e+02\n",
      " 6.510e+01 2.402e+02 5.000e+00 5.400e+01 6.110e+01 7.400e+01 3.034e+02\n",
      " 2.320e+02]\n",
      "\n",
      "y: [25 18 13 15  6  4  2  0  0  7 17 22 25 21 17 17 10 12 10  2  0 10 16 22\n",
      " 27 20 18 15 12  7  6  1  0  2 17 22 19 15 19 24  8  2  0  0  0  1 15 16\n",
      " 18 23 20 16 16 12 11  8 18 18 21 18 24 24 19 22  9  9  3  0  6 12 23 16\n",
      " 24 24 19 22  9  9  3  0  6 12 23 16 24 21 23 17  3  0  0  0  0  0  6 19\n",
      " 18 25 22 13 14  2  3  3  2 15 19 23 24 26 23 19 13 20  1  7  9 12 24 22]\n"
     ]
    }
   ],
   "source": [
    "print(f'X:\\n{X}\\n')\n",
    "print(f'X flatten: {X.flatten()}\\n')\n",
    "print(f'y: {y}')\n"
   ]
  },
  {
   "cell_type": "code",
   "execution_count": 28,
   "id": "2b76df86",
   "metadata": {},
   "outputs": [
    {
     "name": "stdout",
     "output_type": "stream",
     "text": [
      "variance: 27665.81638025211\n"
     ]
    }
   ],
   "source": [
    "variance_x = np.var(X.flatten(), ddof=1)\n",
    "\n",
    "print(f'variance: {variance_x}')"
   ]
  },
  {
   "cell_type": "code",
   "execution_count": 29,
   "id": "ddff6fc7",
   "metadata": {},
   "outputs": [
    {
     "data": {
      "text/plain": [
       "array([[27665.81638025,   776.37180672],\n",
       "       [  776.37180672,    71.24341737]])"
      ]
     },
     "execution_count": 29,
     "metadata": {},
     "output_type": "execute_result"
    }
   ],
   "source": [
    "np.cov(X.flatten(), y)"
   ]
  },
  {
   "cell_type": "code",
   "execution_count": 30,
   "id": "56134072",
   "metadata": {},
   "outputs": [
    {
     "name": "stdout",
     "output_type": "stream",
     "text": [
      "covariance: 776.3718067226891\n"
     ]
    }
   ],
   "source": [
    "covariance_xy = np.cov(X.flatten(), y)[0][1]\n",
    "\n",
    "print(f'covariance: {covariance_xy}')"
   ]
  },
  {
   "cell_type": "code",
   "execution_count": 31,
   "id": "0b83de40",
   "metadata": {},
   "outputs": [
    {
     "name": "stdout",
     "output_type": "stream",
     "text": [
      "slope:0.02806249401976311\n"
     ]
    }
   ],
   "source": [
    "slope = covariance_xy / variance_x\n",
    "\n",
    "print(f'slope:{slope}')"
   ]
  },
  {
   "cell_type": "code",
   "execution_count": 32,
   "id": "b36724ed",
   "metadata": {},
   "outputs": [
    {
     "name": "stdout",
     "output_type": "stream",
     "text": [
      "intercept: 9.03242392197575\n"
     ]
    }
   ],
   "source": [
    "intercept = np.mean(y) - slope * np.mean(X)\n",
    "print(f'intercept: {intercept}')"
   ]
  },
  {
   "cell_type": "code",
   "execution_count": 50,
   "id": "206a1364",
   "metadata": {},
   "outputs": [
    {
     "data": {
      "text/plain": [
       "array([[0]])"
      ]
     },
     "execution_count": 50,
     "metadata": {},
     "output_type": "execute_result"
    }
   ],
   "source": [
    "curah = np.array([0]).reshape(-1,1)\n",
    "curah"
   ]
  },
  {
   "cell_type": "code",
   "execution_count": 51,
   "id": "e2fd11c4",
   "metadata": {},
   "outputs": [
    {
     "data": {
      "text/plain": [
       "array([8.99566738])"
      ]
     },
     "execution_count": 51,
     "metadata": {},
     "output_type": "execute_result"
    }
   ],
   "source": [
    "prediksi_hari = regressor.predict(curah)\n",
    "prediksi_hari"
   ]
  },
  {
   "cell_type": "code",
   "execution_count": 52,
   "id": "879ba4de",
   "metadata": {},
   "outputs": [
    {
     "name": "stdout",
     "output_type": "stream",
     "text": [
      "Curah Hujan : [1] Banyaknya Hujan Harian : 9.022505250567905\n",
      "Curah Hujan : [2] Banyaknya Hujan Harian : 9.04934311805702\n",
      "Curah Hujan : [3] Banyaknya Hujan Harian : 9.076180985546134\n"
     ]
    }
   ],
   "source": [
    "for dmtr, hrg in zip(hari,prediksi_curah):\n",
    "    print(f'Curah Hujan : {dmtr} Banyaknya Hujan Harian : {hrg}')"
   ]
  },
  {
   "cell_type": "code",
   "execution_count": 4,
   "id": "30635ffc",
   "metadata": {},
   "outputs": [
    {
     "ename": "SyntaxError",
     "evalue": "invalid syntax (898297955.py, line 1)",
     "output_type": "error",
     "traceback": [
      "\u001b[1;36m  Input \u001b[1;32mIn [4]\u001b[1;36m\u001b[0m\n\u001b[1;33m    git init\u001b[0m\n\u001b[1;37m        ^\u001b[0m\n\u001b[1;31mSyntaxError\u001b[0m\u001b[1;31m:\u001b[0m invalid syntax\n"
     ]
    }
   ],
   "source": []
  },
  {
   "cell_type": "code",
   "execution_count": null,
   "id": "f54d4280",
   "metadata": {},
   "outputs": [],
   "source": []
  }
 ],
 "metadata": {
  "kernelspec": {
   "display_name": "Python 3 (ipykernel)",
   "language": "python",
   "name": "python3"
  },
  "language_info": {
   "codemirror_mode": {
    "name": "ipython",
    "version": 3
   },
   "file_extension": ".py",
   "mimetype": "text/x-python",
   "name": "python",
   "nbconvert_exporter": "python",
   "pygments_lexer": "ipython3",
   "version": "3.9.12"
  }
 },
 "nbformat": 4,
 "nbformat_minor": 5
}
